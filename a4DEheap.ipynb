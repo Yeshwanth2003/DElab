{
  "nbformat": 4,
  "nbformat_minor": 0,
  "metadata": {
    "colab": {
      "provenance": [],
      "authorship_tag": "ABX9TyPpxSuD2FypOy0qJMt5KzgW",
      "include_colab_link": true
    },
    "kernelspec": {
      "name": "python3",
      "display_name": "Python 3"
    },
    "language_info": {
      "name": "python"
    }
  },
  "cells": [
    {
      "cell_type": "markdown",
      "metadata": {
        "id": "view-in-github",
        "colab_type": "text"
      },
      "source": [
        "<a href=\"https://colab.research.google.com/github/Yeshwanth2003/DElab/blob/main/a4DEheap.ipynb\" target=\"_parent\"><img src=\"https://colab.research.google.com/assets/colab-badge.svg\" alt=\"Open In Colab\"/></a>"
      ]
    },
    {
      "cell_type": "code",
      "execution_count": 1,
      "metadata": {
        "colab": {
          "base_uri": "https://localhost:8080/",
          "height": 222
        },
        "id": "2Xvktcj34Fmd",
        "outputId": "5231d9ba-2bcd-4371-8159-fd688ffe4143"
      },
      "outputs": [
        {
          "output_type": "error",
          "ename": "FileNotFoundError",
          "evalue": "[Errno 2] No such file or directory: './data-assgn-4.txt'",
          "traceback": [
            "\u001b[0;31m---------------------------------------------------------------------------\u001b[0m",
            "\u001b[0;31mFileNotFoundError\u001b[0m                         Traceback (most recent call last)",
            "\u001b[0;32m/tmp/ipython-input-1526852756.py\u001b[0m in \u001b[0;36m<cell line: 0>\u001b[0;34m()\u001b[0m\n\u001b[1;32m      5\u001b[0m \u001b[0mword_set\u001b[0m \u001b[0;34m=\u001b[0m \u001b[0mdict\u001b[0m\u001b[0;34m(\u001b[0m\u001b[0;34m)\u001b[0m\u001b[0;34m\u001b[0m\u001b[0;34m\u001b[0m\u001b[0m\n\u001b[1;32m      6\u001b[0m \u001b[0;34m\u001b[0m\u001b[0m\n\u001b[0;32m----> 7\u001b[0;31m \u001b[0;32mwith\u001b[0m \u001b[0mopen\u001b[0m\u001b[0;34m(\u001b[0m\u001b[0;34m'./data-assgn-4.txt'\u001b[0m\u001b[0;34m,\u001b[0m \u001b[0;34m'r'\u001b[0m\u001b[0;34m)\u001b[0m \u001b[0;32mas\u001b[0m \u001b[0mfile\u001b[0m\u001b[0;34m:\u001b[0m\u001b[0;34m\u001b[0m\u001b[0;34m\u001b[0m\u001b[0m\n\u001b[0m\u001b[1;32m      8\u001b[0m     \u001b[0;32mfor\u001b[0m \u001b[0ml\u001b[0m \u001b[0;32min\u001b[0m \u001b[0mfile\u001b[0m\u001b[0;34m:\u001b[0m\u001b[0;34m\u001b[0m\u001b[0;34m\u001b[0m\u001b[0m\n\u001b[1;32m      9\u001b[0m      \u001b[0mword_list\u001b[0m \u001b[0;34m=\u001b[0m \u001b[0mlist\u001b[0m\u001b[0;34m(\u001b[0m\u001b[0mfilter\u001b[0m\u001b[0;34m(\u001b[0m\u001b[0;32mNone\u001b[0m\u001b[0;34m,\u001b[0m \u001b[0mre\u001b[0m\u001b[0;34m.\u001b[0m\u001b[0msplit\u001b[0m\u001b[0;34m(\u001b[0m\u001b[0;34mr'\\W+'\u001b[0m\u001b[0;34m,\u001b[0m \u001b[0ml\u001b[0m\u001b[0;34m.\u001b[0m\u001b[0mlower\u001b[0m\u001b[0;34m(\u001b[0m\u001b[0;34m)\u001b[0m\u001b[0;34m)\u001b[0m\u001b[0;34m)\u001b[0m\u001b[0;34m)\u001b[0m\u001b[0;34m\u001b[0m\u001b[0;34m\u001b[0m\u001b[0m\n",
            "\u001b[0;31mFileNotFoundError\u001b[0m: [Errno 2] No such file or directory: './data-assgn-4.txt'"
          ]
        }
      ],
      "source": [
        "from pprint import pprint\n",
        "import math as ma\n",
        "import re\n",
        "\n",
        "word_set = dict()\n",
        "\n",
        "with open('./data-assgn-4.txt', 'r') as file:\n",
        "    for l in file:\n",
        "     word_list = list(filter(None, re.split(r'\\W+', l.lower())))\n",
        "     word_set_local = dict()\n",
        "\n",
        "     for i in word_list:\n",
        "      if i in word_set_local:\n",
        "       word_set_local[i] = [(word_set_local[i][0])+1,1]\n",
        "      else:\n",
        "       word_set_local[i] = [1,1]\n",
        "\n",
        "     for i,j in word_set_local.items():\n",
        "      if i in word_set:\n",
        "       word_set[i] = [word_set[i][0]+word_set_local[i][0],word_set[i][1]+word_set_local[i][1]]\n",
        "      else:\n",
        "       word_set[i] = j\n",
        "\n",
        "#pprint(word_set)\n",
        "word_arr = []\n",
        "\n",
        "for i,j in word_set.items():\n",
        " word_arr.append([i,j[0],j[1]])\n",
        "\n",
        "#pprint(word_arr)\n",
        "\n",
        "class Heap:\n",
        " def __init__(this):\n",
        "  this.arr = []\n",
        "  this.size = 0\n",
        "\n",
        " def insert(this,val):\n",
        "  this.arr.append(val)\n",
        "  this.size = len(this.arr)\n",
        "  lim = ma.floor(this.size/2)\n",
        "\n",
        "  i=lim\n",
        "  while i>=0:\n",
        "   this.__heapify(i,lim,this.size)\n",
        "   i-=1\n",
        "\n",
        " def __heapify(this,i,lim,size):\n",
        "    while i<=lim:\n",
        "      a = (2*i)+1\n",
        "      b = (2*i)+2\n",
        "\n",
        "      lar = i\n",
        "      if a<size and (this.arr[a][1])<(this.arr[i][1]):\n",
        "        lar = a\n",
        "      if b<size and (this.arr[b][1])<(this.arr[lar][1]):\n",
        "        lar = b\n",
        "      if lar!=i :\n",
        "          this.arr[lar],this.arr[i] = this.arr[i],this.arr[lar]\n",
        "          i = lar\n",
        "      else:\n",
        "         break;\n",
        "\n",
        " def heapSort(this):\n",
        "    s = this.size\n",
        "    lim = None\n",
        "    while s > 0:\n",
        "      this.arr[0],this.arr[s-1] = this.arr[s-1],this.arr[0]\n",
        "      s-= 1\n",
        "      lim = s\n",
        "      this.__heapify(0,ma.floor(lim/2),s)\n",
        "    return this.arr\n",
        "\n",
        "\n",
        "heap = Heap()\n",
        "\n",
        "for i in word_arr:\n",
        " heap.insert(i)\n",
        "\n",
        "sorted_dictionary = heap.heapSort()\n",
        "\n",
        "pprint(sorted_dictionary)"
      ]
    }
  ]
}